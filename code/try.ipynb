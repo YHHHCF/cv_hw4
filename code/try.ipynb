{
 "cells": [
  {
   "cell_type": "code",
   "execution_count": 1,
   "metadata": {},
   "outputs": [],
   "source": [
    "import numpy as np"
   ]
  },
  {
   "cell_type": "code",
   "execution_count": 6,
   "metadata": {},
   "outputs": [],
   "source": [
    "m = np.array([[0, -4, 2],\n",
    "             [4, 0, -1],\n",
    "             [-2, 1, 0]])"
   ]
  },
  {
   "cell_type": "code",
   "execution_count": 7,
   "metadata": {},
   "outputs": [
    {
     "data": {
      "text/plain": [
       "(array([0.00000000e+00+4.58257569j, 0.00000000e+00-4.58257569j,\n",
       "        1.37672208e-17+0.j        ]),\n",
       " array([[ 0.69006556+0.j        ,  0.69006556-0.j        ,\n",
       "          0.21821789+0.j        ],\n",
       "        [-0.06900656-0.63245553j, -0.06900656+0.63245553j,\n",
       "          0.43643578+0.j        ],\n",
       "        [-0.13801311+0.31622777j, -0.13801311-0.31622777j,\n",
       "          0.87287156+0.j        ]]))"
      ]
     },
     "execution_count": 7,
     "metadata": {},
     "output_type": "execute_result"
    }
   ],
   "source": [
    "np.linalg.eig(m)"
   ]
  },
  {
   "cell_type": "code",
   "execution_count": null,
   "metadata": {},
   "outputs": [],
   "source": []
  }
 ],
 "metadata": {
  "kernelspec": {
   "display_name": "Python 3",
   "language": "python",
   "name": "python3"
  },
  "language_info": {
   "codemirror_mode": {
    "name": "ipython",
    "version": 3
   },
   "file_extension": ".py",
   "mimetype": "text/x-python",
   "name": "python",
   "nbconvert_exporter": "python",
   "pygments_lexer": "ipython3",
   "version": "3.6.5"
  }
 },
 "nbformat": 4,
 "nbformat_minor": 2
}
